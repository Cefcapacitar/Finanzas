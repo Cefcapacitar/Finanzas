{
  "nbformat": 4,
  "nbformat_minor": 0,
  "metadata": {
    "colab": {
      "provenance": []
    },
    "kernelspec": {
      "name": "python3",
      "display_name": "Python 3"
    },
    "language_info": {
      "name": "python"
    }
  },
  "cells": [
    {
      "cell_type": "markdown",
      "source": [
        "**CÁLCULO FINANCIERO EN PYTHON**\n",
        "==\n",
        "*Magister Jorge Córdoba*\n",
        "===\n",
        "**@CEFCAPACITAR**\n",
        "\n",
        "![Mail.jpg](data:image/jpeg;base64,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)"
      ],
      "metadata": {
        "id": "7ppo3oadUSLR"
      }
    },
    {
      "cell_type": "markdown",
      "source": [
        "**Sistemas de amortización**\n",
        "---\n",
        "\n",
        "Solamente se consideran los sistemas financiero."
      ],
      "metadata": {
        "id": "E8Um_twitE3S"
      }
    },
    {
      "cell_type": "code",
      "execution_count": null,
      "metadata": {
        "colab": {
          "base_uri": "https://localhost:8080/"
        },
        "outputId": "4b40ac33-d42f-4c1c-8b3c-1fea85c35e64",
        "id": "QAjg7E9HqAht"
      },
      "outputs": [
        {
          "name": "stdout",
          "output_type": "stream",
          "text": [
            "ingresa una tasa nominal de interés: .12\n",
            "ingresa la cantidad de períodos que capitaliza en el año: 12\n",
            "Tasa efectiva:  0.01\n",
            "ingrese el capital incial de la operación: 1000\n",
            "ingrese la unidad de medida de la moneda (USD o pesos): usd\n",
            "ingrese la cantidad de períodos de la operación: 12\n"
          ]
        }
      ],
      "source": [
        "tna = float(input('ingresa una tasa nominal de interés: '))\n",
        "capitalizacion = float(input('ingresa la cantidad de períodos que capitaliza en el año: '))\n",
        "te = tna/capitalizacion\n",
        "print('Tasa efectiva: ', te)\n",
        "capital = float(input('ingrese el capital incial de la operación: '))\n",
        "moneda = input('ingrese la unidad de medida de la moneda (USD o pesos): ').upper()\n",
        "plazo = int(input('ingrese la cantidad de períodos de la operación: '))"
      ]
    },
    {
      "cell_type": "code",
      "source": [
        "sistema = input('elija el sistema de amortización (F, Al, Am): ').upper()\n",
        "if sistema == 'AM':\n",
        "  interes = capital * te\n",
        "  print('Sistema americano')\n",
        "  for i in range (1, plazo):\n",
        "    print(f'el monto a pagar en la cuota {i}: {moneda} {interes:<12.2f}')\n",
        "  print(f'el monto a pagar en la cuota {plazo}: {moneda} {interes+capital:<12.2f}')\n",
        "  print(f'Interés total: {moneda} {interes*plazo:<12.2f}')\n",
        "\n",
        "elif sistema == 'AL':\n",
        "  print('Sistema alemán')\n",
        "  interes_total = 0\n",
        "  amortizacion = capital/plazo\n",
        "  saldo = capital\n",
        "  for i in range (1, plazo + 1):\n",
        "    interes = saldo*te\n",
        "    interes_total+=interes\n",
        "    print(f'el monto a pagar en la cuota {i}: {moneda} {interes+amortizacion:<12.2f}, el monto de intereses: {moneda} {interes:<12.2f} y el capital a pagar: {moneda} {amortizacion:<12.2f}')\n",
        "    saldo -= amortizacion\n",
        "  print(f'Interés total: {moneda} {interes_total:<12.2f}')\n",
        "\n",
        "\n",
        "else:\n",
        "  print('Sistema francés')\n",
        "  cuota = capital*te/(1-((1+te)**(-plazo)))\n",
        "  amortizacion = 0\n",
        "  saldo = capital\n",
        "  interes_total=0\n",
        "  for i in range (1, plazo + 1):\n",
        "    interes = saldo*te\n",
        "    amortizacion = cuota - interes\n",
        "    saldo -= amortizacion\n",
        "    interes_total+=interes\n",
        "    print(f'el monto a pagar en la cuota {i}: {moneda} {interes+amortizacion:<12.2f}, el monto de intereses: {moneda} {interes:<12.2f} y el capital a pagar: {moneda} {amortizacion:<12.2f}')\n",
        "  print(f'Interés total:{moneda} {interes_total:<12.2f}')\n"
      ],
      "metadata": {
        "colab": {
          "base_uri": "https://localhost:8080/"
        },
        "id": "ZkAKdVOQbYzm",
        "outputId": "db5b5623-e940-4548-ff42-e1543324d784"
      },
      "execution_count": null,
      "outputs": [
        {
          "output_type": "stream",
          "name": "stdout",
          "text": [
            "elija el sistema de amortización (F, Al, Am): f\n",
            "Sistema francés\n",
            "el monto a pagar en la cuota 1: USD 88.85       , el monto de intereses: USD 10.00        y el capital a pagar: USD 78.85       \n",
            "el monto a pagar en la cuota 2: USD 88.85       , el monto de intereses: USD 9.21         y el capital a pagar: USD 79.64       \n",
            "el monto a pagar en la cuota 3: USD 88.85       , el monto de intereses: USD 8.42         y el capital a pagar: USD 80.43       \n",
            "el monto a pagar en la cuota 4: USD 88.85       , el monto de intereses: USD 7.61         y el capital a pagar: USD 81.24       \n",
            "el monto a pagar en la cuota 5: USD 88.85       , el monto de intereses: USD 6.80         y el capital a pagar: USD 82.05       \n",
            "el monto a pagar en la cuota 6: USD 88.85       , el monto de intereses: USD 5.98         y el capital a pagar: USD 82.87       \n",
            "el monto a pagar en la cuota 7: USD 88.85       , el monto de intereses: USD 5.15         y el capital a pagar: USD 83.70       \n",
            "el monto a pagar en la cuota 8: USD 88.85       , el monto de intereses: USD 4.31         y el capital a pagar: USD 84.54       \n",
            "el monto a pagar en la cuota 9: USD 88.85       , el monto de intereses: USD 3.47         y el capital a pagar: USD 85.38       \n",
            "el monto a pagar en la cuota 10: USD 88.85       , el monto de intereses: USD 2.61         y el capital a pagar: USD 86.24       \n",
            "el monto a pagar en la cuota 11: USD 88.85       , el monto de intereses: USD 1.75         y el capital a pagar: USD 87.10       \n",
            "el monto a pagar en la cuota 12: USD 88.85       , el monto de intereses: USD 0.88         y el capital a pagar: USD 87.97       \n",
            "Interés total:USD 66.19       \n"
          ]
        }
      ]
    },
    {
      "cell_type": "code",
      "source": [
        "sistema = input('elija el sistema de amortización (F, Al, Am): ').upper()\n",
        "match sistema:\n",
        "  case 'AM':\n",
        "    interes = capital * te\n",
        "    print('Sistema americano')\n",
        "    for i in range (1, plazo):\n",
        "      print(f'el monto a pagar en la cuota {i}: {moneda} {interes:<12.2f}')\n",
        "    print(f'el monto a pagar en la cuota {plazo}: {moneda} {interes+capital:<12.2f}')\n",
        "    print(f'Interés total: {moneda} {interes*plazo:<12.2f}')\n",
        "\n",
        "  case 'AL':\n",
        "    print('Sistema alemán')\n",
        "    interes_total = 0\n",
        "    amortizacion = capital/plazo\n",
        "    saldo = capital\n",
        "    for i in range (1, plazo + 1):\n",
        "      interes = saldo*te\n",
        "      interes_total+=interes\n",
        "      print(f'el monto a pagar en la cuota {i}: {moneda} {interes+amortizacion:<12.2f}, el monto de intereses: {moneda} {interes:<12.2f} y el capital a pagar: {moneda} {amortizacion:<12.2f}')\n",
        "      saldo -= amortizacion\n",
        "    print(f'Interés total: {moneda} {interes_total:<12.2f}')\n",
        "\n",
        "\n",
        "  case 'F':\n",
        "    print('Sistema francés')\n",
        "    cuota = capital*te/(1-((1+te)**(-plazo)))\n",
        "    amortizacion = 0\n",
        "    saldo = capital\n",
        "    interes_total=0\n",
        "    for i in range (1, plazo + 1):\n",
        "      interes = saldo*te\n",
        "      amortizacion = cuota - interes\n",
        "      saldo -= amortizacion\n",
        "      interes_total+=interes\n",
        "      print(f'el monto a pagar en la cuota {i}: {moneda} {interes+amortizacion:<12.2f}, el monto de intereses: {moneda} {interes:<12.2f} y el capital a pagar: {moneda} {amortizacion:<12.2f}')\n",
        "    print(f'Interés total:{moneda} {interes_total:<12.2f}')\n"
      ],
      "metadata": {
        "colab": {
          "base_uri": "https://localhost:8080/"
        },
        "outputId": "1fb4c77c-a6c6-48a1-968a-c20107aae02b",
        "id": "qGFdOpJeuVJa"
      },
      "execution_count": null,
      "outputs": [
        {
          "output_type": "stream",
          "name": "stdout",
          "text": [
            "elija el sistema de amortización (F, Al, Am): f\n",
            "Sistema francés\n",
            "el monto a pagar en la cuota 1: USD 88.85       , el monto de intereses: USD 10.00        y el capital a pagar: USD 78.85       \n",
            "el monto a pagar en la cuota 2: USD 88.85       , el monto de intereses: USD 9.21         y el capital a pagar: USD 79.64       \n",
            "el monto a pagar en la cuota 3: USD 88.85       , el monto de intereses: USD 8.42         y el capital a pagar: USD 80.43       \n",
            "el monto a pagar en la cuota 4: USD 88.85       , el monto de intereses: USD 7.61         y el capital a pagar: USD 81.24       \n",
            "el monto a pagar en la cuota 5: USD 88.85       , el monto de intereses: USD 6.80         y el capital a pagar: USD 82.05       \n",
            "el monto a pagar en la cuota 6: USD 88.85       , el monto de intereses: USD 5.98         y el capital a pagar: USD 82.87       \n",
            "el monto a pagar en la cuota 7: USD 88.85       , el monto de intereses: USD 5.15         y el capital a pagar: USD 83.70       \n",
            "el monto a pagar en la cuota 8: USD 88.85       , el monto de intereses: USD 4.31         y el capital a pagar: USD 84.54       \n",
            "el monto a pagar en la cuota 9: USD 88.85       , el monto de intereses: USD 3.47         y el capital a pagar: USD 85.38       \n",
            "el monto a pagar en la cuota 10: USD 88.85       , el monto de intereses: USD 2.61         y el capital a pagar: USD 86.24       \n",
            "el monto a pagar en la cuota 11: USD 88.85       , el monto de intereses: USD 1.75         y el capital a pagar: USD 87.10       \n",
            "el monto a pagar en la cuota 12: USD 88.85       , el monto de intereses: USD 0.88         y el capital a pagar: USD 87.97       \n",
            "Interés total:USD 66.19       \n"
          ]
        }
      ]
    }
  ]
}